{
 "cells": [
  {
   "cell_type": "code",
   "execution_count": 1,
   "metadata": {},
   "outputs": [
    {
     "data": {
      "text/plain": [
       "<module 'modeling' from 'c:\\\\Users\\\\HP\\\\Desktop\\\\TenX\\\\insurance_data_analysis\\\\scripts\\\\modeling.py'>"
      ]
     },
     "execution_count": 1,
     "metadata": {},
     "output_type": "execute_result"
    }
   ],
   "source": [
    "import pandas as pd\n",
    "from sklearn.model_selection import train_test_split\n",
    "\n",
    "# Import custom module\n",
    "import sys\n",
    "import os\n",
    "sys.path.insert(0,os.path.abspath(\"../scripts\"))\n",
    "import modeling as mo\n",
    "import importlib\n",
    "importlib.reload(mo)"
   ]
  },
  {
   "cell_type": "code",
   "execution_count": 2,
   "metadata": {},
   "outputs": [
    {
     "name": "stderr",
     "output_type": "stream",
     "text": [
      "C:\\Users\\HP\\AppData\\Local\\Temp\\ipykernel_10256\\1843618143.py:2: DtypeWarning: Columns (32) have mixed types. Specify dtype option on import or set low_memory=False.\n",
      "  df = pd.read_csv('../data/cleaned_insurance_data.csv')\n"
     ]
    }
   ],
   "source": [
    "# Load the dataset\n",
    "df = pd.read_csv('../data/cleaned_insurance_data.csv')"
   ]
  },
  {
   "cell_type": "code",
   "execution_count": 3,
   "metadata": {},
   "outputs": [],
   "source": [
    "# Step 1: Data Preprocessing\n",
    "df = mo.handle_missing_data(df)  # Handle missing values\n",
    "df = mo.feature_engineering(df)  # Feature engineering"
   ]
  },
  {
   "cell_type": "code",
   "execution_count": 4,
   "metadata": {},
   "outputs": [],
   "source": [
    "# Encode categorical variables\n",
    "categorical_columns = ['Citizenship', 'LegalType', 'Title', 'Language', 'Bank', 'AccountType',\n",
    "                       'MaritalStatus', 'Gender', 'Country', 'Province', 'VehicleType', 'ItemType']\n",
    "df = mo.encode_categorical(df, categorical_columns)"
   ]
  },
  {
   "cell_type": "code",
   "execution_count": 5,
   "metadata": {},
   "outputs": [],
   "source": [
    "# Step 2: Train-Test Split\n",
    "X = df.drop(['TotalPremium', 'TotalClaims'], axis=1)  # Features\n",
    "y = df['TotalPremium']  # Target (for example, predicting TotalPremium)\n",
    "\n",
    "X_train, X_test, y_train, y_test = train_test_split(X, y, test_size=0.2, random_state=42)"
   ]
  },
  {
   "cell_type": "code",
   "execution_count": null,
   "metadata": {},
   "outputs": [],
   "source": []
  }
 ],
 "metadata": {
  "language_info": {
   "name": "python"
  }
 },
 "nbformat": 4,
 "nbformat_minor": 2
}
