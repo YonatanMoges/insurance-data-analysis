{
 "cells": [
  {
   "cell_type": "code",
   "execution_count": 20,
   "metadata": {},
   "outputs": [
    {
     "data": {
      "text/plain": [
       "<module 'modeling' from 'c:\\\\Users\\\\HP\\\\Desktop\\\\TenX\\\\insurance_data_analysis\\\\scripts\\\\modeling.py'>"
      ]
     },
     "execution_count": 20,
     "metadata": {},
     "output_type": "execute_result"
    }
   ],
   "source": [
    "import pandas as pd\n",
    "from sklearn.model_selection import train_test_split\n",
    "import matplotlib.pyplot as plt\n",
    "\n",
    "# Import custom module\n",
    "import sys\n",
    "import os\n",
    "sys.path.insert(0,os.path.abspath(\"../scripts\"))\n",
    "import modeling as mo\n",
    "import importlib\n",
    "importlib.reload(mo)"
   ]
  },
  {
   "cell_type": "code",
   "execution_count": 21,
   "metadata": {},
   "outputs": [
    {
     "name": "stderr",
     "output_type": "stream",
     "text": [
      "C:\\Users\\HP\\AppData\\Local\\Temp\\ipykernel_20620\\3416413044.py:1: DtypeWarning: Columns (32) have mixed types. Specify dtype option on import or set low_memory=False.\n",
      "  data = pd.read_csv('../data/cleaned_insurance_data.csv')\n"
     ]
    }
   ],
   "source": [
    "\n",
    "data = pd.read_csv('../data/cleaned_insurance_data.csv')"
   ]
  },
  {
   "cell_type": "code",
   "execution_count": 22,
   "metadata": {},
   "outputs": [
    {
     "data": {
      "text/html": [
       "<div>\n",
       "<style scoped>\n",
       "    .dataframe tbody tr th:only-of-type {\n",
       "        vertical-align: middle;\n",
       "    }\n",
       "\n",
       "    .dataframe tbody tr th {\n",
       "        vertical-align: top;\n",
       "    }\n",
       "\n",
       "    .dataframe thead th {\n",
       "        text-align: right;\n",
       "    }\n",
       "</style>\n",
       "<table border=\"1\" class=\"dataframe\">\n",
       "  <thead>\n",
       "    <tr style=\"text-align: right;\">\n",
       "      <th></th>\n",
       "      <th>UnderwrittenCoverID</th>\n",
       "      <th>PolicyID</th>\n",
       "      <th>IsVATRegistered</th>\n",
       "      <th>Citizenship</th>\n",
       "      <th>LegalType</th>\n",
       "      <th>Title</th>\n",
       "      <th>Language</th>\n",
       "      <th>Bank</th>\n",
       "      <th>AccountType</th>\n",
       "      <th>MaritalStatus</th>\n",
       "      <th>...</th>\n",
       "      <th>Section</th>\n",
       "      <th>Product</th>\n",
       "      <th>StatutoryClass</th>\n",
       "      <th>StatutoryRiskType</th>\n",
       "      <th>TotalPremium</th>\n",
       "      <th>TotalClaims</th>\n",
       "      <th>VehicleAge</th>\n",
       "      <th>ClaimsToPremiumRatio</th>\n",
       "      <th>TransactionYear</th>\n",
       "      <th>TransactionMonthOnly</th>\n",
       "    </tr>\n",
       "  </thead>\n",
       "  <tbody>\n",
       "    <tr>\n",
       "      <th>0</th>\n",
       "      <td>145249</td>\n",
       "      <td>12827</td>\n",
       "      <td>True</td>\n",
       "      <td></td>\n",
       "      <td>Close Corporation</td>\n",
       "      <td>Mr</td>\n",
       "      <td>English</td>\n",
       "      <td>First National Bank</td>\n",
       "      <td>Current account</td>\n",
       "      <td>Not specified</td>\n",
       "      <td>...</td>\n",
       "      <td>Motor Comprehensive</td>\n",
       "      <td>Mobility Metered Taxis: Monthly</td>\n",
       "      <td>Commercial</td>\n",
       "      <td>IFRS Constant</td>\n",
       "      <td>21.929825</td>\n",
       "      <td>0.0</td>\n",
       "      <td>19</td>\n",
       "      <td>0.0</td>\n",
       "      <td>2015</td>\n",
       "      <td>3</td>\n",
       "    </tr>\n",
       "    <tr>\n",
       "      <th>1</th>\n",
       "      <td>145249</td>\n",
       "      <td>12827</td>\n",
       "      <td>True</td>\n",
       "      <td></td>\n",
       "      <td>Close Corporation</td>\n",
       "      <td>Mr</td>\n",
       "      <td>English</td>\n",
       "      <td>First National Bank</td>\n",
       "      <td>Current account</td>\n",
       "      <td>Not specified</td>\n",
       "      <td>...</td>\n",
       "      <td>Motor Comprehensive</td>\n",
       "      <td>Mobility Metered Taxis: Monthly</td>\n",
       "      <td>Commercial</td>\n",
       "      <td>IFRS Constant</td>\n",
       "      <td>21.929825</td>\n",
       "      <td>0.0</td>\n",
       "      <td>19</td>\n",
       "      <td>0.0</td>\n",
       "      <td>2015</td>\n",
       "      <td>5</td>\n",
       "    </tr>\n",
       "    <tr>\n",
       "      <th>2</th>\n",
       "      <td>145249</td>\n",
       "      <td>12827</td>\n",
       "      <td>True</td>\n",
       "      <td></td>\n",
       "      <td>Close Corporation</td>\n",
       "      <td>Mr</td>\n",
       "      <td>English</td>\n",
       "      <td>First National Bank</td>\n",
       "      <td>Current account</td>\n",
       "      <td>Not specified</td>\n",
       "      <td>...</td>\n",
       "      <td>Motor Comprehensive</td>\n",
       "      <td>Mobility Metered Taxis: Monthly</td>\n",
       "      <td>Commercial</td>\n",
       "      <td>IFRS Constant</td>\n",
       "      <td>0.000000</td>\n",
       "      <td>0.0</td>\n",
       "      <td>19</td>\n",
       "      <td>0.0</td>\n",
       "      <td>2015</td>\n",
       "      <td>7</td>\n",
       "    </tr>\n",
       "    <tr>\n",
       "      <th>3</th>\n",
       "      <td>145255</td>\n",
       "      <td>12827</td>\n",
       "      <td>True</td>\n",
       "      <td></td>\n",
       "      <td>Close Corporation</td>\n",
       "      <td>Mr</td>\n",
       "      <td>English</td>\n",
       "      <td>First National Bank</td>\n",
       "      <td>Current account</td>\n",
       "      <td>Not specified</td>\n",
       "      <td>...</td>\n",
       "      <td>Motor Comprehensive</td>\n",
       "      <td>Mobility Metered Taxis: Monthly</td>\n",
       "      <td>Commercial</td>\n",
       "      <td>IFRS Constant</td>\n",
       "      <td>512.848070</td>\n",
       "      <td>0.0</td>\n",
       "      <td>19</td>\n",
       "      <td>0.0</td>\n",
       "      <td>2015</td>\n",
       "      <td>5</td>\n",
       "    </tr>\n",
       "    <tr>\n",
       "      <th>4</th>\n",
       "      <td>145255</td>\n",
       "      <td>12827</td>\n",
       "      <td>True</td>\n",
       "      <td></td>\n",
       "      <td>Close Corporation</td>\n",
       "      <td>Mr</td>\n",
       "      <td>English</td>\n",
       "      <td>First National Bank</td>\n",
       "      <td>Current account</td>\n",
       "      <td>Not specified</td>\n",
       "      <td>...</td>\n",
       "      <td>Motor Comprehensive</td>\n",
       "      <td>Mobility Metered Taxis: Monthly</td>\n",
       "      <td>Commercial</td>\n",
       "      <td>IFRS Constant</td>\n",
       "      <td>0.000000</td>\n",
       "      <td>0.0</td>\n",
       "      <td>19</td>\n",
       "      <td>0.0</td>\n",
       "      <td>2015</td>\n",
       "      <td>7</td>\n",
       "    </tr>\n",
       "  </tbody>\n",
       "</table>\n",
       "<p>5 rows × 55 columns</p>\n",
       "</div>"
      ],
      "text/plain": [
       "   UnderwrittenCoverID  PolicyID  IsVATRegistered Citizenship  \\\n",
       "0               145249     12827             True               \n",
       "1               145249     12827             True               \n",
       "2               145249     12827             True               \n",
       "3               145255     12827             True               \n",
       "4               145255     12827             True               \n",
       "\n",
       "           LegalType Title Language                 Bank      AccountType  \\\n",
       "0  Close Corporation    Mr  English  First National Bank  Current account   \n",
       "1  Close Corporation    Mr  English  First National Bank  Current account   \n",
       "2  Close Corporation    Mr  English  First National Bank  Current account   \n",
       "3  Close Corporation    Mr  English  First National Bank  Current account   \n",
       "4  Close Corporation    Mr  English  First National Bank  Current account   \n",
       "\n",
       "   MaritalStatus  ...              Section                          Product  \\\n",
       "0  Not specified  ...  Motor Comprehensive  Mobility Metered Taxis: Monthly   \n",
       "1  Not specified  ...  Motor Comprehensive  Mobility Metered Taxis: Monthly   \n",
       "2  Not specified  ...  Motor Comprehensive  Mobility Metered Taxis: Monthly   \n",
       "3  Not specified  ...  Motor Comprehensive  Mobility Metered Taxis: Monthly   \n",
       "4  Not specified  ...  Motor Comprehensive  Mobility Metered Taxis: Monthly   \n",
       "\n",
       "  StatutoryClass  StatutoryRiskType TotalPremium TotalClaims VehicleAge  \\\n",
       "0     Commercial      IFRS Constant    21.929825         0.0         19   \n",
       "1     Commercial      IFRS Constant    21.929825         0.0         19   \n",
       "2     Commercial      IFRS Constant     0.000000         0.0         19   \n",
       "3     Commercial      IFRS Constant   512.848070         0.0         19   \n",
       "4     Commercial      IFRS Constant     0.000000         0.0         19   \n",
       "\n",
       "   ClaimsToPremiumRatio TransactionYear  TransactionMonthOnly  \n",
       "0                   0.0            2015                     3  \n",
       "1                   0.0            2015                     5  \n",
       "2                   0.0            2015                     7  \n",
       "3                   0.0            2015                     5  \n",
       "4                   0.0            2015                     7  \n",
       "\n",
       "[5 rows x 55 columns]"
      ]
     },
     "execution_count": 22,
     "metadata": {},
     "output_type": "execute_result"
    }
   ],
   "source": [
    "# Data Preprocessing\n",
    "df = mo.handle_missing_data(data)  # Handle missing values\n",
    "df = mo.feature_engineering(df)  # Feature engineering\n",
    "df = mo.process_dates(df) # Date Formatting\n",
    "df.head()\n"
   ]
  },
  {
   "cell_type": "code",
   "execution_count": 23,
   "metadata": {},
   "outputs": [
    {
     "name": "stdout",
     "output_type": "stream",
     "text": [
      "Empty DataFrame\n",
      "Columns: [UnderwrittenCoverID, PolicyID, IsVATRegistered, PostalCode, MainCrestaZone, SubCrestaZone, mmcode, RegistrationYear, make, Model, Cylinders, cubiccapacity, kilowatts, bodytype, NumberOfDoors, VehicleIntroDate, CustomValueEstimate, AlarmImmobiliser, TrackingDevice, CapitalOutstanding, NewVehicle, WrittenOff, Rebuilt, Converted, CrossBorder, NumberOfVehiclesInFleet, SumInsured, TermFrequency, CalculatedPremiumPerTerm, ExcessSelected, CoverCategory, CoverType, CoverGroup, Section, Product, StatutoryClass, StatutoryRiskType, TotalPremium, TotalClaims, VehicleAge, ClaimsToPremiumRatio, TransactionYear, TransactionMonthOnly, Citizenship_AF, Citizenship_ZA, Citizenship_ZW, LegalType_Individual, LegalType_Partnership, LegalType_Private company, LegalType_Public company, LegalType_Sole proprieter, Title_Miss, Title_Mr, Title_Mrs, Title_Ms, Bank_Capitec Bank, Bank_First National Bank, Bank_FirstRand Bank, Bank_Investec Bank, Bank_Ithala Bank, Bank_Mercantile Lisbon Bank, Bank_Nedbank, Bank_Old Mutual, Bank_RMB Private Bank, Bank_Standard Bank, Bank_Unknown, AccountType_Savings account, AccountType_Transmission account, AccountType_Unknown, MaritalStatus_Not specified, MaritalStatus_Single, MaritalStatus_Unknown, Gender_Male, Gender_Not specified, Gender_Unknown, Province_Free State, Province_Gauteng, Province_KwaZulu-Natal, Province_Limpopo, Province_Mpumalanga, Province_North West, Province_Northern Cape, Province_Western Cape, VehicleType_Heavy Commercial, VehicleType_Light Commercial, VehicleType_Medium Commercial, VehicleType_Passenger Vehicle, VehicleType_Unknown]\n",
      "Index: []\n",
      "\n",
      "[0 rows x 88 columns]\n"
     ]
    }
   ],
   "source": [
    "\n",
    "# Encode categorical variables\n",
    "categorical_columns = ['Citizenship', 'LegalType', 'Title', 'Language', 'Bank', 'AccountType',\n",
    "                       'MaritalStatus', 'Gender', 'Country', 'Province', 'VehicleType', 'ItemType']\n",
    "\n",
    "df_encoded = mo.encode_categorical(df, categorical_columns)\n",
    "\n",
    "# Check the encoded DataFrame\n",
    "print(df_encoded.head())\n"
   ]
  },
  {
   "cell_type": "code",
   "execution_count": 24,
   "metadata": {},
   "outputs": [
    {
     "name": "stdout",
     "output_type": "stream",
     "text": [
      "Non-numeric columns: Index(['Citizenship', 'LegalType', 'Title', 'Language', 'Bank', 'AccountType',\n",
      "       'MaritalStatus', 'Gender', 'Country', 'Province', 'MainCrestaZone',\n",
      "       'SubCrestaZone', 'ItemType', 'VehicleType', 'make', 'Model', 'bodytype',\n",
      "       'VehicleIntroDate', 'AlarmImmobiliser', 'TrackingDevice',\n",
      "       'CapitalOutstanding', 'NewVehicle', 'WrittenOff', 'Rebuilt',\n",
      "       'Converted', 'CrossBorder', 'TermFrequency', 'ExcessSelected',\n",
      "       'CoverCategory', 'CoverType', 'CoverGroup', 'Section', 'Product',\n",
      "       'StatutoryClass', 'StatutoryRiskType'],\n",
      "      dtype='object')\n"
     ]
    }
   ],
   "source": [
    "# Check for non-numeric columns\n",
    "non_numeric_columns = df.select_dtypes(include=['object']).columns\n",
    "print(\"Non-numeric columns:\", non_numeric_columns)"
   ]
  },
  {
   "cell_type": "markdown",
   "metadata": {},
   "source": [
    "Train test split"
   ]
  },
  {
   "cell_type": "code",
   "execution_count": 32,
   "metadata": {},
   "outputs": [
    {
     "name": "stdout",
     "output_type": "stream",
     "text": [
      "Predictions: [1500.]\n"
     ]
    }
   ],
   "source": [
    "\"\"\" # Train-Test Split\n",
    "X = df.drop(['TotalPremium', 'TotalClaims'], axis=1)  # Features\n",
    "y = df['TotalPremium']  # Target (for example, predicting TotalPremium)\n",
    "\n",
    "X_train, X_test, y_train, y_test = train_test_split(X, y, test_size=0.2, random_state=42)\n",
    "\n",
    "print(X_train.dtypes) \"\"\"\n",
    "\n",
    "import pandas as pd\n",
    "from sklearn.linear_model import LinearRegression\n",
    "from sklearn.model_selection import train_test_split\n",
    "from sklearn.preprocessing import LabelEncoder, OneHotEncoder, StandardScaler\n",
    "\n",
    "\n",
    "\n",
    "# Encoding Functions\n",
    "def encoder(method, dataframe, columns_label, columns_onehot):\n",
    "    if method == 'labelEncoder':      \n",
    "        df_lbl = dataframe.copy()\n",
    "        for col in columns_label:\n",
    "            label = LabelEncoder()\n",
    "            df_lbl[col] = label.fit_transform(df_lbl[col].astype(str))\n",
    "        return df_lbl\n",
    "    \n",
    "    elif method == 'oneHotEncoder':\n",
    "        df_oh = dataframe.copy()\n",
    "        df_oh = pd.get_dummies(data=df_oh, columns=columns_onehot, drop_first=True)\n",
    "        return df_oh\n",
    "\n",
    "# Define columns\n",
    "columns_label = ['LegalType']\n",
    "columns_onehot = ['Citizenship', 'Country', 'VehicleType']\n",
    "\n",
    "# Apply label encoding\n",
    "df_encoded_label = encoder('labelEncoder', df, columns_label, [])\n",
    "\n",
    "# Apply one-hot encoding\n",
    "df_encoded = encoder('oneHotEncoder', df_encoded_label, [], columns_onehot)\n",
    "\n",
    "# Prepare features and target\n",
    "X = df_encoded.drop('TotalPremium', axis=1)\n",
    "y = df_encoded['TotalPremium']\n",
    "\n",
    "# Split data\n",
    "X_train, X_test, y_train, y_test = train_test_split(X, y, test_size=0.2, random_state=42)\n",
    "\n",
    "# Scale numerical features (if any)\n",
    "scaler = StandardScaler()\n",
    "numerical_columns = ['RegistrationYear']  # Include other numerical columns if present\n",
    "X_train[numerical_columns] = scaler.fit_transform(X_train[numerical_columns])\n",
    "X_test[numerical_columns] = scaler.transform(X_test[numerical_columns])\n",
    "\n",
    "# Train Linear Regression Model\n",
    "model = LinearRegression()\n",
    "model.fit(X_train, y_train)\n",
    "\n",
    "# Predict\n",
    "y_pred = model.predict(X_test)\n",
    "print(\"Predictions:\", y_pred)\n",
    "\n"
   ]
  },
  {
   "cell_type": "markdown",
   "metadata": {},
   "source": [
    "Modeling"
   ]
  },
  {
   "cell_type": "markdown",
   "metadata": {},
   "source": [
    "Linear Regression model"
   ]
  },
  {
   "cell_type": "code",
   "execution_count": 33,
   "metadata": {},
   "outputs": [],
   "source": [
    "linear_model = mo.train_linear_regression(X_train, y_train)\n",
    "y_pred_lr = linear_model.predict(X_test)"
   ]
  },
  {
   "cell_type": "markdown",
   "metadata": {},
   "source": [
    "Random Forest model"
   ]
  },
  {
   "cell_type": "code",
   "execution_count": 34,
   "metadata": {},
   "outputs": [],
   "source": [
    "rf_model = mo.train_random_forest(X_train, y_train)\n",
    "y_pred_rf = rf_model.predict(X_test)"
   ]
  },
  {
   "cell_type": "markdown",
   "metadata": {},
   "source": [
    "Train an XGBoost model"
   ]
  },
  {
   "cell_type": "code",
   "execution_count": 35,
   "metadata": {},
   "outputs": [],
   "source": [
    "xgb_model = mo.train_xgboost(X_train, y_train)\n",
    "y_pred_xgb = xgb_model.predict(X_test)"
   ]
  },
  {
   "cell_type": "markdown",
   "metadata": {},
   "source": [
    "Model Evaluation"
   ]
  },
  {
   "cell_type": "code",
   "execution_count": 36,
   "metadata": {},
   "outputs": [
    {
     "name": "stderr",
     "output_type": "stream",
     "text": [
      "c:\\Users\\HP\\AppData\\Local\\Programs\\Python\\Python39\\lib\\site-packages\\sklearn\\metrics\\_regression.py:1211: UndefinedMetricWarning: R^2 score is not well-defined with less than two samples.\n",
      "  warnings.warn(msg, UndefinedMetricWarning)\n",
      "c:\\Users\\HP\\AppData\\Local\\Programs\\Python\\Python39\\lib\\site-packages\\sklearn\\metrics\\_regression.py:1211: UndefinedMetricWarning: R^2 score is not well-defined with less than two samples.\n",
      "  warnings.warn(msg, UndefinedMetricWarning)\n",
      "c:\\Users\\HP\\AppData\\Local\\Programs\\Python\\Python39\\lib\\site-packages\\sklearn\\metrics\\_regression.py:1211: UndefinedMetricWarning: R^2 score is not well-defined with less than two samples.\n",
      "  warnings.warn(msg, UndefinedMetricWarning)\n"
     ]
    }
   ],
   "source": [
    "lr_results = mo.evaluate_model(y_test, y_pred_lr)\n",
    "rf_results = mo.evaluate_model(y_test, y_pred_rf)\n",
    "xgb_results = mo.evaluate_model(y_test, y_pred_xgb)"
   ]
  },
  {
   "cell_type": "code",
   "execution_count": 37,
   "metadata": {},
   "outputs": [
    {
     "name": "stdout",
     "output_type": "stream",
     "text": [
      "Linear Regression Results: {'MSE': 90000.0, 'MAE': 300.0, 'R2': nan}\n",
      "Random Forest Results: {'MSE': 178084.0, 'MAE': 422.0, 'R2': nan}\n",
      "XGBoost Results: {'MSE': 249999.02343845367, 'MAE': 499.9990234375, 'R2': nan}\n"
     ]
    }
   ],
   "source": [
    "# Print the results\n",
    "print(\"Linear Regression Results:\", lr_results)\n",
    "print(\"Random Forest Results:\", rf_results)\n",
    "print(\"XGBoost Results:\", xgb_results)"
   ]
  },
  {
   "cell_type": "code",
   "execution_count": null,
   "metadata": {},
   "outputs": [],
   "source": [
    "import pandas as pd\n",
    "import numpy as np\n",
    "from sklearn.model_selection import train_test_split\n",
    "from sklearn.preprocessing import OneHotEncoder, LabelEncoder\n",
    "from sklearn.linear_model import LinearRegression\n",
    "from sklearn.ensemble import RandomForestRegressor\n",
    "from xgboost import XGBRegressor\n",
    "from sklearn.metrics import mean_absolute_error, mean_squared_error, r2_score\n",
    "import shap\n",
    "import lime\n",
    "import lime.lime_tabular\n",
    "\n",
    "# Random Forest Feature Importance\n",
    "importances = rf_model.feature_importances_\n",
    "indices = np.argsort(importances)[::-1]\n",
    "\n",
    "# Plot the feature importances\n",
    "plt.figure(figsize=(10, 6))\n",
    "plt.title(\"Feature Importance - Random Forest\")\n",
    "plt.bar(range(X.shape[1]), importances[indices], align=\"center\")\n",
    "plt.xticks(range(X.shape[1]), X.columns[indices], rotation=90)\n",
    "plt.tight_layout()\n",
    "plt.show()\n"
   ]
  }
 ],
 "metadata": {
  "language_info": {
   "name": "python"
  }
 },
 "nbformat": 4,
 "nbformat_minor": 2
}
