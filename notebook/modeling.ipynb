{
 "cells": [
  {
   "cell_type": "code",
   "execution_count": 1,
   "metadata": {},
   "outputs": [],
   "source": [
    "from sklearn.model_selection import train_test_split\n",
    "\n",
    "import sys\n",
    "sys.path.append(\"../scripts\")\n",
    "from modeling import ModelingPipeline"
   ]
  },
  {
   "cell_type": "code",
   "execution_count": 2,
   "metadata": {},
   "outputs": [],
   "source": [
    "# Initialize Pipeline\n",
    "pipeline = ModelingPipeline()"
   ]
  },
  {
   "cell_type": "code",
   "execution_count": 3,
   "metadata": {},
   "outputs": [],
   "source": [
    "# Load and preprocess data\n",
    "data = pipeline.load_and_clean_data('../data/processed_data.csv')\n",
    "data = pipeline.handle_missing_data(data)\n",
    "data = pipeline.feature_engineering(data)\n",
    "data = pipeline.process_dates(data)"
   ]
  },
  {
   "cell_type": "code",
   "execution_count": 4,
   "metadata": {},
   "outputs": [],
   "source": [
    "# Encoding categorical data\n",
    "categorical_columns_label = ['LegalType']\n",
    "categorical_columns_onehot = ['Citizenship', 'Country', 'VehicleType']\n",
    "data_encoded = pipeline.encode_data(data, columns_label=categorical_columns_label, columns_onehot=categorical_columns_onehot)"
   ]
  },
  {
   "cell_type": "code",
   "execution_count": 5,
   "metadata": {},
   "outputs": [],
   "source": [
    "# Train-test split\n",
    "X = data_encoded.drop(['TotalPremium', 'TotalClaims'], axis=1)\n",
    "y = data_encoded['TotalPremium']\n",
    "X_train, X_test, y_train, y_test = train_test_split(X, y, test_size=0.2, random_state=42)"
   ]
  },
  {
   "cell_type": "code",
   "execution_count": 6,
   "metadata": {},
   "outputs": [],
   "source": [
    "# Scaling numerical columns\n",
    "numeric_columns = ['RegistrationYear']\n",
    "X_train, X_test = pipeline.scale_data(X_train, X_test, numeric_columns)"
   ]
  },
  {
   "cell_type": "code",
   "execution_count": 7,
   "metadata": {},
   "outputs": [],
   "source": [
    "# Train models and evaluate\n",
    "models = ['LinearRegression', 'RandomForest', 'XGBoost']\n",
    "results = {}\n",
    "for model_name in models:\n",
    "    model = pipeline.train_model(model_name, X_train, y_train)\n",
    "    y_pred = pipeline.predict_model(model, X_test)\n",
    "    results[model_name] = pipeline.evaluate_model(y_test, y_pred)"
   ]
  },
  {
   "cell_type": "code",
   "execution_count": 8,
   "metadata": {},
   "outputs": [
    {
     "name": "stdout",
     "output_type": "stream",
     "text": [
      "\n",
      "Model Evaluation Metrics:\n",
      "\n",
      "LinearRegression:\n",
      "  MSE: 16053.7679\n",
      "  MAE: 62.7851\n",
      "  R2: 0.4181\n",
      "\n",
      "RandomForest:\n",
      "  MSE: 2192.1292\n",
      "  MAE: 12.6428\n",
      "  R2: 0.9205\n",
      "\n",
      "XGBoost:\n",
      "  MSE: 7408.2478\n",
      "  MAE: 36.3824\n",
      "  R2: 0.7315\n"
     ]
    }
   ],
   "source": [
    "# Display results\n",
    "pipeline.display_results(results)"
   ]
  },
  {
   "cell_type": "code",
   "execution_count": null,
   "metadata": {},
   "outputs": [],
   "source": [
    "# Plot feature importance for Random Forest\n",
    "rf_model = pipeline.train_model('RandomForest', X_train, y_train)\n",
    "pipeline.plot_feature_importance(rf_model, X_train.columns)"
   ]
  }
 ],
 "metadata": {
  "language_info": {
   "name": "python"
  }
 },
 "nbformat": 4,
 "nbformat_minor": 2
}
