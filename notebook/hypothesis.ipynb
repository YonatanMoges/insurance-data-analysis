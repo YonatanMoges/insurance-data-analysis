{
 "cells": [
  {
   "cell_type": "code",
   "execution_count": null,
   "metadata": {},
   "outputs": [],
   "source": [
    "import pandas as pd\n",
    "import sys\n",
    "\n",
    "# Import custom module\n",
    "sys.path.append(\"../scripts\")\n",
    "from hypothesis import HypothesisTesting"
   ]
  },
  {
   "cell_type": "code",
   "execution_count": 9,
   "metadata": {},
   "outputs": [],
   "source": [
    "# Load preprocessed data\n",
    "dtype_spec = {32: 'object', 37: 'object'}\n",
    "data = pd.read_csv('../data/processed_data.csv', dtype=dtype_spec)"
   ]
  },
  {
   "cell_type": "code",
   "execution_count": 10,
   "metadata": {},
   "outputs": [],
   "source": [
    "# Initialize the HypothesisTesting class\n",
    "hypothesis_tester = HypothesisTesting(data)"
   ]
  },
  {
   "cell_type": "markdown",
   "metadata": {},
   "source": [
    "Hypothesis Tests"
   ]
  },
  {
   "cell_type": "code",
   "execution_count": null,
   "metadata": {},
   "outputs": [
    {
     "name": "stdout",
     "output_type": "stream",
     "text": [
      "Hypothesis Test 1: Risk Differences Across Provinces\n",
      "Fail to reject the null hypothesis (no significant difference)\n"
     ]
    }
   ],
   "source": [
    "print(\"Hypothesis Test 1: Risk Differences Across Provinces\")\n",
    "p_value_province = hypothesis_tester.test_risk_province()\n",
    "print(hypothesis_tester.interpret_results(p_value_province))"
   ]
  },
  {
   "cell_type": "code",
   "execution_count": 13,
   "metadata": {},
   "outputs": [
    {
     "name": "stdout",
     "output_type": "stream",
     "text": [
      "\n",
      "Hypothesis Test 2: Risk Differences Between Zip Codes\n",
      "Fail to reject the null hypothesis (no significant difference)\n"
     ]
    }
   ],
   "source": [
    "print(\"\\nHypothesis Test 2: Risk Differences Between Zip Codes\")\n",
    "p_value_zipcode = hypothesis_tester.test_risk_zipcode()\n",
    "print(hypothesis_tester.interpret_results(p_value_zipcode))"
   ]
  },
  {
   "cell_type": "code",
   "execution_count": 14,
   "metadata": {},
   "outputs": [
    {
     "name": "stdout",
     "output_type": "stream",
     "text": [
      "\n",
      "Hypothesis Test 3: Margin Differences Between Zip Codes\n",
      "Fail to reject the null hypothesis (no significant difference)\n"
     ]
    }
   ],
   "source": [
    "print(\"\\nHypothesis Test 3: Margin Differences Between Zip Codes\")\n",
    "p_value_margin = hypothesis_tester.test_margin_zipcode()\n",
    "print(hypothesis_tester.interpret_results(p_value_margin))"
   ]
  },
  {
   "cell_type": "code",
   "execution_count": 15,
   "metadata": {},
   "outputs": [
    {
     "name": "stdout",
     "output_type": "stream",
     "text": [
      "\n",
      "Hypothesis Test 4: Risk Differences Between Genders\n",
      "Fail to reject the null hypothesis (no significant difference)\n"
     ]
    }
   ],
   "source": [
    "print(\"\\nHypothesis Test 4: Risk Differences Between Genders\")\n",
    "p_value_gender = hypothesis_tester.test_risk_gender()\n",
    "print(hypothesis_tester.interpret_results(p_value_gender))"
   ]
  }
 ],
 "metadata": {
  "language_info": {
   "name": "python"
  }
 },
 "nbformat": 4,
 "nbformat_minor": 2
}
